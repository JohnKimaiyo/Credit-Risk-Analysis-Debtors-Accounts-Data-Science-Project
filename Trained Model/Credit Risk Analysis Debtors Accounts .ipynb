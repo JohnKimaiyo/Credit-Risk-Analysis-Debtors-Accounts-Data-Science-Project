{
 "cells": [
  {
   "cell_type": "markdown",
   "id": "8283cf48-d03d-494f-a99c-ee27b8376e48",
   "metadata": {},
   "source": [
    "# Credit Risk Analysis Debtors Accounts\n",
    "\n",
    "\n",
    "We analyze debtor payment behavior and determine which debtors should receive better due dates, we can use Python libraries such as pandas, numpy, and scikit-learn. Below is a step-by-step guide on how to perform this analysis:\n",
    "\n",
    "\n",
    "Load the Data: Use pandas to load the data from the file.\r\n",
    "\r\n",
    "Data Preprocessing: Clean and preprocess the data, such as converting date columns to datetime objects and handling missing values.\r\n",
    "\r\n",
    "Feature Engineering: Create new features that might be useful for analysis, such as the number of days between the invoice date and the maturity date.\r\n",
    "\r\n",
    "Analyze Payment Behavior: Calculate metrics such as average payment delay, total amount owed, and frequency of late payments.\r\n",
    "\r\n",
    "Cluster Analysis: Use clustering algorithms from scikit-learn to group debtors based on their payment behavior.\r\n",
    "\r\n",
    "Determine Better Due Dates: Based on the analysis, suggest better due dates for debtors who frequently pay late.\n",
    "\n",
    "\n"
   ]
  },
  {
   "cell_type": "markdown",
   "id": "eafc563c-4c2f-4e59-9590-0c9232762796",
   "metadata": {},
   "source": [
    "## Step 1: Import Libraries and Load the Data: Use pandas to load the data from the file."
   ]
  },
  {
   "cell_type": "code",
   "execution_count": 84,
   "id": "6a5a1a6a-cdaa-40ae-b6ff-710ef2832022",
   "metadata": {},
   "outputs": [
    {
     "data": {
      "text/html": [
       "<div>\n",
       "<style scoped>\n",
       "    .dataframe tbody tr th:only-of-type {\n",
       "        vertical-align: middle;\n",
       "    }\n",
       "\n",
       "    .dataframe tbody tr th {\n",
       "        vertical-align: top;\n",
       "    }\n",
       "\n",
       "    .dataframe thead th {\n",
       "        text-align: right;\n",
       "    }\n",
       "</style>\n",
       "<table border=\"1\" class=\"dataframe\">\n",
       "  <thead>\n",
       "    <tr style=\"text-align: right;\">\n",
       "      <th></th>\n",
       "      <th>Cutomer ID</th>\n",
       "      <th>Customer  Name</th>\n",
       "      <th>Invoice Number</th>\n",
       "      <th>Amount</th>\n",
       "      <th>Invoice Date</th>\n",
       "      <th>Due Date</th>\n",
       "    </tr>\n",
       "  </thead>\n",
       "  <tbody>\n",
       "    <tr>\n",
       "      <th>0</th>\n",
       "      <td>CA00040</td>\n",
       "      <td>Hayes-Koepp</td>\n",
       "      <td>CI47849371</td>\n",
       "      <td>5,506.32</td>\n",
       "      <td>12/11/2020</td>\n",
       "      <td>1/10/2021</td>\n",
       "    </tr>\n",
       "    <tr>\n",
       "      <th>1</th>\n",
       "      <td>CA00394</td>\n",
       "      <td>Aufderhar-Gaylord</td>\n",
       "      <td>UI98518744</td>\n",
       "      <td>7,882.92</td>\n",
       "      <td>12/4/2020</td>\n",
       "      <td>1/3/2021</td>\n",
       "    </tr>\n",
       "    <tr>\n",
       "      <th>2</th>\n",
       "      <td>CA00419</td>\n",
       "      <td>Witting and Sons</td>\n",
       "      <td>UI76967580</td>\n",
       "      <td>8,081.44</td>\n",
       "      <td>8/7/2020</td>\n",
       "      <td>9/6/2020</td>\n",
       "    </tr>\n",
       "    <tr>\n",
       "      <th>3</th>\n",
       "      <td>CA00897</td>\n",
       "      <td>Williamson, Harvey and Lubowitz</td>\n",
       "      <td>CI30071955</td>\n",
       "      <td>9,003.04</td>\n",
       "      <td>12/20/2020</td>\n",
       "      <td>1/19/2021</td>\n",
       "    </tr>\n",
       "    <tr>\n",
       "      <th>4</th>\n",
       "      <td>CA00271</td>\n",
       "      <td>Zemlak-Anderson</td>\n",
       "      <td>CI88968287</td>\n",
       "      <td>9,257.06</td>\n",
       "      <td>9/13/2020</td>\n",
       "      <td>10/13/2020</td>\n",
       "    </tr>\n",
       "  </tbody>\n",
       "</table>\n",
       "</div>"
      ],
      "text/plain": [
       "  Cutomer ID                    Customer  Name Invoice Number      Amount  \\\n",
       "0     CA00040                      Hayes-Koepp     CI47849371   5,506.32    \n",
       "1     CA00394                Aufderhar-Gaylord     UI98518744   7,882.92    \n",
       "2     CA00419                 Witting and Sons     UI76967580   8,081.44    \n",
       "3     CA00897  Williamson, Harvey and Lubowitz     CI30071955   9,003.04    \n",
       "4     CA00271                  Zemlak-Anderson     CI88968287   9,257.06    \n",
       "\n",
       "  Invoice Date    Due Date  \n",
       "0   12/11/2020   1/10/2021  \n",
       "1    12/4/2020    1/3/2021  \n",
       "2     8/7/2020    9/6/2020  \n",
       "3   12/20/2020   1/19/2021  \n",
       "4    9/13/2020  10/13/2020  "
      ]
     },
     "execution_count": 84,
     "metadata": {},
     "output_type": "execute_result"
    }
   ],
   "source": [
    "import pandas as pd\n",
    "import numpy as np\n",
    "from sklearn.cluster import KMeans\n",
    "from datetime import datetime\n",
    "\n",
    "Credit_Control_df = pd.read_csv(r\"C:\\Users\\jki\\Desktop\\Data Scence Projects\\Credit Control Debtors Aging Report\\Machine Learning\\Source Data\\Credit Control Report.csv\" ) \n",
    "Credit_Control_df.head(5)\n"
   ]
  },
  {
   "cell_type": "markdown",
   "id": "64cd5dd8-9cd3-4127-8244-f7c26389f9d2",
   "metadata": {},
   "source": [
    "## Step 2 : Data Preprocessing: \n",
    "\n",
    "Clean and preprocess the data, such as converting date columns to datetime objects and handling missing values."
   ]
  },
  {
   "cell_type": "code",
   "execution_count": 85,
   "id": "f14df670-d4aa-42d3-a39f-2a38cc82862d",
   "metadata": {},
   "outputs": [
    {
     "name": "stdout",
     "output_type": "stream",
     "text": [
      "<class 'pandas.core.frame.DataFrame'>\n",
      "RangeIndex: 178 entries, 0 to 177\n",
      "Data columns (total 6 columns):\n",
      " #   Column          Non-Null Count  Dtype \n",
      "---  ------          --------------  ----- \n",
      " 0   Cutomer ID      178 non-null    object\n",
      " 1   Customer  Name  178 non-null    object\n",
      " 2   Invoice Number  178 non-null    object\n",
      " 3   Amount          178 non-null    object\n",
      " 4   Invoice Date    178 non-null    object\n",
      " 5   Due Date        178 non-null    object\n",
      "dtypes: object(6)\n",
      "memory usage: 8.5+ KB\n"
     ]
    }
   ],
   "source": [
    "Credit_Control_df.info()"
   ]
  },
  {
   "cell_type": "code",
   "execution_count": 86,
   "id": "62a164af-03a9-4872-9524-c393c3e030a8",
   "metadata": {},
   "outputs": [
    {
     "data": {
      "text/plain": [
       "<bound method DataFrame.info of     Cutomer ID                    Customer  Name Invoice Number  Amount  \\\n",
       "0       CA00040                      Hayes-Koepp     CI47849371     NaN   \n",
       "1       CA00394                Aufderhar-Gaylord     UI98518744     NaN   \n",
       "2       CA00419                 Witting and Sons     UI76967580     NaN   \n",
       "3       CA00897  Williamson, Harvey and Lubowitz     CI30071955     NaN   \n",
       "4       CA00271                  Zemlak-Anderson     CI88968287     NaN   \n",
       "..          ...                              ...            ...     ...   \n",
       "173     CA00350                          Rau Inc     UI78257094     NaN   \n",
       "174     CA00854                  King-Wintheiser     CI83073426     NaN   \n",
       "175     CA00989     Streich, Mueller and McClure     CI49062755     NaN   \n",
       "176     CA00313      Vandervort, Huel and Wunsch     CI29236858     NaN   \n",
       "177     CA00200                    Lehner-Harber     CI42174722     NaN   \n",
       "\n",
       "    Invoice Date   Due Date  \n",
       "0     2020-12-11 2021-01-10  \n",
       "1     2020-12-04 2021-01-03  \n",
       "2     2020-08-07 2020-09-06  \n",
       "3     2020-12-20 2021-01-19  \n",
       "4     2020-09-13 2020-10-13  \n",
       "..           ...        ...  \n",
       "173   2020-11-28 2020-12-28  \n",
       "174   2020-12-19 2021-01-18  \n",
       "175   2020-11-07 2020-12-07  \n",
       "176   2020-11-30 2020-12-30  \n",
       "177   2020-10-07 2020-11-06  \n",
       "\n",
       "[178 rows x 6 columns]>"
      ]
     },
     "execution_count": 86,
     "metadata": {},
     "output_type": "execute_result"
    }
   ],
   "source": [
    "# Convert date columns to datetime\n",
    "Credit_Control_df['Invoice Date'] = pd.to_datetime(Credit_Control_df['Invoice Date'])\n",
    "Credit_Control_df['Due Date'] = pd.to_datetime(Credit_Control_df['Due Date'])\n",
    "\n",
    "# Convert amount to numeric\n",
    "Credit_Control_df['Amount'] =  pd.to_numeric(Credit_Control_df['Amount'],errors='coerce')\n",
    "\n",
    "Credit_Control_df.info"
   ]
  },
  {
   "cell_type": "code",
   "execution_count": 87,
   "id": "feb4615b-d66a-4770-88d0-88e3b8e68d4c",
   "metadata": {},
   "outputs": [
    {
     "name": "stdout",
     "output_type": "stream",
     "text": [
      "Cutomer ID          0\n",
      "Customer  Name      0\n",
      "Invoice Number      0\n",
      "Amount            178\n",
      "Invoice Date        0\n",
      "Due Date            0\n",
      "dtype: int64\n"
     ]
    }
   ],
   "source": [
    "print(Credit_Control_df.isnull().sum())\n"
   ]
  },
  {
   "cell_type": "code",
   "execution_count": 88,
   "id": "c5cb7344-7d79-4115-99b0-5d83facd04bb",
   "metadata": {},
   "outputs": [],
   "source": [
    "Credit_Control_df['Amount'].fillna(0, inplace=True)\n"
   ]
  },
  {
   "cell_type": "code",
   "execution_count": 89,
   "id": "13924b9c-1fce-4bf2-a9c7-b82c904bcac4",
   "metadata": {},
   "outputs": [
    {
     "name": "stdout",
     "output_type": "stream",
     "text": [
      "Cutomer ID        0\n",
      "Customer  Name    0\n",
      "Invoice Number    0\n",
      "Amount            0\n",
      "Invoice Date      0\n",
      "Due Date          0\n",
      "dtype: int64\n"
     ]
    }
   ],
   "source": [
    "print(Credit_Control_df.isnull().sum())"
   ]
  },
  {
   "cell_type": "markdown",
   "id": "e6977a4f-1142-4af7-a487-e3bd3c8ed349",
   "metadata": {},
   "source": [
    "## Step 3 : Feature Engineering"
   ]
  },
  {
   "cell_type": "code",
   "execution_count": 90,
   "id": "38ea0f8b-ad1d-4ca0-80ad-38744ec48b6a",
   "metadata": {},
   "outputs": [],
   "source": [
    "# Calculate the payment delay\n",
    "Credit_Control_df['payment_delay'] = (Credit_Control_df['Due Date'] - Credit_Control_df['Invoice Date']).dt.days"
   ]
  },
  {
   "cell_type": "markdown",
   "id": "dfb25f92-08d8-47de-9423-cb71f3f8ac18",
   "metadata": {},
   "source": [
    "## Step 4 : Analyze Payment Behavior"
   ]
  },
  {
   "cell_type": "code",
   "execution_count": 91,
   "id": "9329c879-4a10-411a-a5ca-5876711e54af",
   "metadata": {
    "scrolled": true
   },
   "outputs": [
    {
     "name": "stdout",
     "output_type": "stream",
     "text": [
      "<class 'pandas.core.frame.DataFrame'>\n",
      "RangeIndex: 178 entries, 0 to 177\n",
      "Data columns (total 7 columns):\n",
      " #   Column          Non-Null Count  Dtype         \n",
      "---  ------          --------------  -----         \n",
      " 0   Cutomer ID      178 non-null    object        \n",
      " 1   Customer  Name  178 non-null    object        \n",
      " 2   Invoice Number  178 non-null    object        \n",
      " 3   Amount          178 non-null    float64       \n",
      " 4   Invoice Date    178 non-null    datetime64[ns]\n",
      " 5   Due Date        178 non-null    datetime64[ns]\n",
      " 6   payment_delay   178 non-null    int64         \n",
      "dtypes: datetime64[ns](2), float64(1), int64(1), object(3)\n",
      "memory usage: 9.9+ KB\n"
     ]
    }
   ],
   "source": [
    "Credit_Control_df.info()"
   ]
  },
  {
   "cell_type": "code",
   "execution_count": 92,
   "id": "d023d79b-3faf-4543-8b87-d6648c4e4e2f",
   "metadata": {},
   "outputs": [],
   "source": [
    "# Group by company name and calculate metrics\n",
    "payment_behavior = Credit_Control_df.groupby('Customer  Name').agg(\n",
    "    total_amount=('Amount', 'sum'),\n",
    "    average_delay=('payment_delay', 'mean'),\n",
    "    count_invoices=('Invoice Number', 'count')\n",
    ").reset_index()\n"
   ]
  },
  {
   "cell_type": "markdown",
   "id": "a79a0c28-4b44-40cf-83c1-da2aaecf9d34",
   "metadata": {},
   "source": [
    "## Step 5 : Cluster Analysis"
   ]
  },
  {
   "cell_type": "code",
   "execution_count": 93,
   "id": "a5bf0584-98ed-4a79-8c73-de969551ea05",
   "metadata": {},
   "outputs": [
    {
     "name": "stderr",
     "output_type": "stream",
     "text": [
      "C:\\Users\\jki\\anaconda3\\Lib\\site-packages\\sklearn\\cluster\\_kmeans.py:870: FutureWarning: The default value of `n_init` will change from 10 to 'auto' in 1.4. Set the value of `n_init` explicitly to suppress the warning\n",
      "  warnings.warn(\n",
      "C:\\Users\\jki\\anaconda3\\Lib\\site-packages\\sklearn\\cluster\\_kmeans.py:1382: UserWarning: KMeans is known to have a memory leak on Windows with MKL, when there are less chunks than available threads. You can avoid it by setting the environment variable OMP_NUM_THREADS=1.\n",
      "  warnings.warn(\n",
      "C:\\Users\\jki\\AppData\\Local\\Temp\\ipykernel_13172\\108334237.py:11: ConvergenceWarning: Number of distinct clusters (1) found smaller than n_clusters (3). Possibly due to duplicate points in X.\n",
      "  kmeans = KMeans(n_clusters=3, random_state=0).fit(X)\n"
     ]
    }
   ],
   "source": [
    "import os\n",
    "os.environ[\"OMP_NUM_THREADS\"] = \"1\"\n",
    "\n",
    "from sklearn.cluster import KMeans\n",
    "import numpy as np\n",
    "\n",
    "# Prepare data for clustering\n",
    "X = payment_behavior[['average_delay', 'total_amount']]\n",
    "\n",
    "# Perform KMeans clustering\n",
    "kmeans = KMeans(n_clusters=3, random_state=0).fit(X)\n",
    "payment_behavior['cluster'] = kmeans.labels_"
   ]
  },
  {
   "cell_type": "markdown",
   "id": "154ccc72-6476-4317-927b-d1c9f83d1b85",
   "metadata": {},
   "source": [
    "## Step 6 Determine Better Due Dates"
   ]
  },
  {
   "cell_type": "code",
   "execution_count": 94,
   "id": "0a72c4e9-6243-4fe1-868f-9dfd93eef3c7",
   "metadata": {},
   "outputs": [
    {
     "name": "stdout",
     "output_type": "stream",
     "text": [
      "                  Customer  Name  total_amount  average_delay  count_invoices  \\\n",
      "0   Abbott, Dibbert and Prohaska           0.0           30.0               1   \n",
      "1                 Abshire-Abbott           0.0           30.0               1   \n",
      "2     Armstrong, Rau and Quigley           0.0           30.0               1   \n",
      "3              Aufderhar-Gaylord           0.0           30.0               2   \n",
      "4   Bartoletti, Ledner and Davis           0.0           30.0               2   \n",
      "..                           ...           ...            ...             ...   \n",
      "71                 Willms-Brekke           0.0           30.0               2   \n",
      "72              Witting and Sons           0.0           30.0               5   \n",
      "73       Wolf, Becker and Brekke           0.0           30.0               2   \n",
      "74                   Wyman Group           0.0           30.0               1   \n",
      "75               Zemlak-Anderson           0.0           30.0               2   \n",
      "\n",
      "    cluster  suggested_due_date_extension  \n",
      "0         0                          40.0  \n",
      "1         0                          40.0  \n",
      "2         0                          40.0  \n",
      "3         0                          40.0  \n",
      "4         0                          40.0  \n",
      "..      ...                           ...  \n",
      "71        0                          40.0  \n",
      "72        0                          40.0  \n",
      "73        0                          40.0  \n",
      "74        0                          40.0  \n",
      "75        0                          40.0  \n",
      "\n",
      "[76 rows x 6 columns]\n",
      "Vendor recommendations saved to: vendor_recommendations.json\n"
     ]
    }
   ],
   "source": [
    "import json\n",
    "\n",
    "# Suggest extending due dates for debtors in the cluster with the highest average delay\n",
    "payment_behavior['suggested_due_date_extension'] = np.where(\n",
    "    payment_behavior['cluster'] == payment_behavior['cluster'].max(),\n",
    "    payment_behavior['average_delay'] + 10,  # Extend by 10 days\n",
    "    payment_behavior['average_delay']\n",
    ")\n",
    "\n",
    "# Display the final result\n",
    "print(payment_behavior)\n",
    "\n",
    "# Save the recommendations to a JSON file\n",
    "output_json_path = 'vendor_recommendations.json'\n",
    "payment_behavior.to_json(output_json_path, orient='records', lines=True)\n",
    "\n",
    "print(f\"Vendor recommendations saved to: {output_json_path}\")"
   ]
  },
  {
   "cell_type": "code",
   "execution_count": null,
   "id": "b1cbae1f-2bc2-4d34-b94b-f085f9c1edce",
   "metadata": {},
   "outputs": [],
   "source": []
  }
 ],
 "metadata": {
  "kernelspec": {
   "display_name": "Python 3 (ipykernel)",
   "language": "python",
   "name": "python3"
  },
  "language_info": {
   "codemirror_mode": {
    "name": "ipython",
    "version": 3
   },
   "file_extension": ".py",
   "mimetype": "text/x-python",
   "name": "python",
   "nbconvert_exporter": "python",
   "pygments_lexer": "ipython3",
   "version": "3.11.7"
  }
 },
 "nbformat": 4,
 "nbformat_minor": 5
}
